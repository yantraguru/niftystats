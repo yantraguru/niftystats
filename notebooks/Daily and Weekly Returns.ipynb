{
 "cells": [
  {
   "cell_type": "code",
   "execution_count": 71,
   "metadata": {},
   "outputs": [],
   "source": [
    "import numpy as np\n",
    "import pandas as pd\n",
    "\n",
    "import datetime\n",
    "from pandas.tseries.frequencies import to_offset\n",
    "\n",
    "import niftyutils\n",
    "from niftyutils import load_nifty_data\n",
    "\n",
    "import matplotlib.pyplot as plt"
   ]
  },
  {
   "cell_type": "code",
   "execution_count": 72,
   "metadata": {},
   "outputs": [],
   "source": [
    "start_date = datetime.datetime(2005,8,1)\n",
    "end_date = datetime.datetime(2020,9,25)\n",
    "nifty_data = load_nifty_data(start_date,end_date)"
   ]
  },
  {
   "cell_type": "markdown",
   "metadata": {},
   "source": [
    "## Daily Return Distribution (For 15 years)"
   ]
  },
  {
   "cell_type": "code",
   "execution_count": 73,
   "metadata": {},
   "outputs": [],
   "source": [
    "daily_returns = (nifty_data['Close']/nifty_data['Close'].shift(1) - 1)*100\n",
    "daily_returns = daily_returns.dropna()"
   ]
  },
  {
   "cell_type": "code",
   "execution_count": 74,
   "metadata": {},
   "outputs": [
    {
     "data": {
      "text/plain": [
       "count    3753.000000\n",
       "mean        0.052015\n",
       "std         1.441152\n",
       "min       -12.980464\n",
       "25%        -0.579597\n",
       "50%         0.074331\n",
       "75%         0.716017\n",
       "max        17.744066\n",
       "Name: Close, dtype: float64"
      ]
     },
     "execution_count": 74,
     "metadata": {},
     "output_type": "execute_result"
    }
   ],
   "source": [
    "daily_returns.describe()"
   ]
  },
  {
   "cell_type": "code",
   "execution_count": 75,
   "metadata": {},
   "outputs": [
    {
     "data": {
      "image/png": "[encoded data removed]",
      "text/plain": [
       "<Figure size 576x504 with 1 Axes>"
      ]
     },
     "metadata": {
      "needs_background": "light"
     },
     "output_type": "display_data"
    }
   ],
   "source": [
    "plt.figure(figsize=[8,7])\n",
    "plt.style.use(\"bmh\")\n",
    "\n",
    "plt.hist(daily_returns, density = True, bins=20, color='#2ab0ff',alpha=0.55)\n",
    "\n",
    "plt.xlabel('% return', fontsize=15)\n",
    "plt.xticks(fontsize=12)\n",
    "plt.yticks(fontsize=12)\n",
    "\n",
    "plt.tick_params(left = False, bottom = False)\n",
    "plt.title('NIFTY daily % returns ({} samples)'.format(len(daily_returns)),fontsize=15)\n",
    "plt.grid(False)\n",
    "plt.show()"
   ]
  },
  {
   "cell_type": "code",
   "execution_count": 76,
   "metadata": {},
   "outputs": [
    {
     "data": {
      "text/plain": [
       "(-12.98, -2.5]    0.035448\n",
       "(-2.5, -2.0]      0.022921\n",
       "(-2.0, -1.5]      0.033849\n",
       "(-1.5, -1.0]      0.062367\n",
       "(-1.0, -0.75]     0.053838\n",
       "(-0.75, 0.75]     0.551706\n",
       "(0.75, 1.0]       0.059968\n",
       "(1.0, 1.5]        0.077292\n",
       "(1.5, 2.0]        0.046908\n",
       "(2.0, 2.5]        0.022388\n",
       "(2.5, 17.744]     0.033316\n",
       "Name: Close, dtype: float64"
      ]
     },
     "execution_count": 76,
     "metadata": {},
     "output_type": "execute_result"
    }
   ],
   "source": [
    "custom_bins = [daily_returns.min(),-2.5,-2,-1.5,-1,0.-0.75,0.75,1.0,1.5,2.0,2.5,daily_returns.max()]\n",
    "categorized_daily_returns = pd.cut(daily_returns, bins=custom_bins)\n",
    "categorized_daily_returns.value_counts(normalize=True,sort=False)"
   ]
  },
  {
   "cell_type": "code",
   "execution_count": 77,
   "metadata": {},
   "outputs": [
    {
     "data": {
      "text/plain": [
       "(-12.98, -3.0]    0.024787\n",
       "(-3.0, -1.5]      0.067431\n",
       "(-1.5, -1.0]      0.062367\n",
       "(-1.0, 1.0]       0.665512\n",
       "(1.0, 1.5]        0.077292\n",
       "(1.5, 3.0]        0.081023\n",
       "(3.0, 17.744]     0.021588\n",
       "Name: Close, dtype: float64"
      ]
     },
     "execution_count": 77,
     "metadata": {},
     "output_type": "execute_result"
    }
   ],
   "source": [
    "custom_bins_compact = [daily_returns.min(),-3,-1.5,-1.0,1.0,1.5,3.0,daily_returns.max()]\n",
    "categorized_daily_returns = pd.cut(daily_returns, bins=custom_bins_compact)\n",
    "categorized_daily_returns.value_counts(normalize=True,sort=False)"
   ]
  },
  {
   "cell_type": "markdown",
   "metadata": {},
   "source": [
    "## Weekly Return Distribution (For 15 years)"
   ]
  },
  {
   "cell_type": "code",
   "execution_count": 78,
   "metadata": {},
   "outputs": [],
   "source": [
    "weekly_nifty_data = nifty_data.resample('W').agg(niftyutils.OHLC_CONVERSION_DICT)\n",
    "weekly_nifty_data.index = weekly_nifty_data.index - to_offset('6D')"
   ]
  },
  {
   "cell_type": "code",
   "execution_count": 79,
   "metadata": {},
   "outputs": [],
   "source": [
    "weekly_returns = (weekly_nifty_data['Close']/weekly_nifty_data['Close'].shift(1) - 1)*100\n",
    "weekly_returns = weekly_returns.dropna().rename('returns')"
   ]
  },
  {
   "cell_type": "code",
   "execution_count": 80,
   "metadata": {},
   "outputs": [
    {
     "data": {
      "text/plain": [
       "count    790.000000\n",
       "mean       0.239652\n",
       "std        2.964291\n",
       "min      -15.949713\n",
       "25%       -1.308922\n",
       "50%        0.371412\n",
       "75%        1.773317\n",
       "max       15.438563\n",
       "Name: returns, dtype: float64"
      ]
     },
     "execution_count": 80,
     "metadata": {},
     "output_type": "execute_result"
    }
   ],
   "source": [
    "weekly_returns.describe()"
   ]
  },
  {
   "cell_type": "code",
   "execution_count": 81,
   "metadata": {},
   "outputs": [
    {
     "data": {
      "image/png": "[encoded data removed]",
      "text/plain": [
       "<Figure size 576x504 with 1 Axes>"
      ]
     },
     "metadata": {
      "needs_background": "light"
     },
     "output_type": "display_data"
    }
   ],
   "source": [
    "plt.figure(figsize=[8,7])\n",
    "plt.style.use(\"bmh\")\n",
    "\n",
    "plt.hist(weekly_returns, density = True, bins=20, color='#2ab0ff',alpha=0.55)\n",
    "\n",
    "plt.xlabel('% return', fontsize=15)\n",
    "plt.xticks(fontsize=12)\n",
    "plt.yticks(fontsize=12)\n",
    "\n",
    "plt.tick_params(left = False, bottom = False)\n",
    "plt.title('NIFTY weekly % returns ({} samples)'.format(len(weekly_returns)),fontsize=15)\n",
    "plt.grid(False)\n",
    "plt.show()"
   ]
  },
  {
   "cell_type": "code",
   "execution_count": 86,
   "metadata": {},
   "outputs": [
    {
     "data": {
      "text/plain": [
       "(-15.95, -5.0]    0.039290\n",
       "(-5.0, -2.5]      0.098859\n",
       "(-2.5, 2.5]       0.680608\n",
       "(2.5, 5.0]        0.141952\n",
       "(5.0, 15.439]     0.039290\n",
       "Name: returns, dtype: float64"
      ]
     },
     "execution_count": 86,
     "metadata": {},
     "output_type": "execute_result"
    }
   ],
   "source": [
    "custom_bins_compact = [weekly_returns.min(),-5,-2.5,2.5,5,weekly_returns.max()]\n",
    "categorized_weekly_returns = pd.cut(weekly_returns, bins=custom_bins_compact)\n",
    "categorized_weekly_returns.value_counts(normalize=True,sort=False)"
   ]
  },
  {
   "cell_type": "code",
   "execution_count": 87,
   "metadata": {},
   "outputs": [],
   "source": [
    "custom_bins_labels = ['-ve Extreme','-ve','normal','+ve','+ve Extreme']\n",
    "return_categories = pd.cut(weekly_returns, bins=custom_bins_compact,labels=custom_bins_labels).rename('category')\n",
    "weekly_returns_categorized = pd.concat([weekly_returns, return_categories], axis=1)"
   ]
  }
 ],
 "metadata": {
  "kernelspec": {
   "display_name": "Python 3",
   "language": "python",
   "name": "python3"
  },
  "language_info": {
   "codemirror_mode": {
    "name": "ipython",
    "version": 3
   },
   "file_extension": ".py",
   "mimetype": "text/x-python",
   "name": "python",
   "nbconvert_exporter": "python",
   "pygments_lexer": "ipython3",
   "version": "3.6.9"
  }
 },
 "nbformat": 4,
 "nbformat_minor": 4
}
