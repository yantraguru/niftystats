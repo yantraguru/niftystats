{
 "cells": [
  {
   "cell_type": "markdown",
   "metadata": {},
   "source": [
    "## Study bearish engulfing on weekly timeframe for NIFTY"
   ]
  },
  {
   "cell_type": "code",
   "execution_count": 18,
   "metadata": {},
   "outputs": [],
   "source": [
    "import numpy as np\n",
    "import pandas as pd\n",
    "from pandas.tseries.frequencies import to_offset\n",
    "\n",
    "import datetime\n",
    "\n",
    "import niftyutils\n",
    "from niftyutils import load_nifty_data\n",
    "\n",
    "import matplotlib.pyplot as plt\n",
    "import mplfinance as fplt"
   ]
  },
  {
   "cell_type": "code",
   "execution_count": 2,
   "metadata": {},
   "outputs": [],
   "source": [
    "start_date = datetime.datetime(2005,8,1)\n",
    "end_date = datetime.datetime(2020,8,29)\n",
    "nifty_data = load_nifty_data(start_date,end_date)"
   ]
  },
  {
   "cell_type": "code",
   "execution_count": 3,
   "metadata": {},
   "outputs": [
    {
     "data": {
      "text/html": [
       "<div>\n",
       "<style scoped>\n",
       "    .dataframe tbody tr th:only-of-type {\n",
       "        vertical-align: middle;\n",
       "    }\n",
       "\n",
       "    .dataframe tbody tr th {\n",
       "        vertical-align: top;\n",
       "    }\n",
       "\n",
       "    .dataframe thead th {\n",
       "        text-align: right;\n",
       "    }\n",
       "</style>\n",
       "<table border=\"1\" class=\"dataframe\">\n",
       "  <thead>\n",
       "    <tr style=\"text-align: right;\">\n",
       "      <th></th>\n",
       "      <th>Open</th>\n",
       "      <th>High</th>\n",
       "      <th>Low</th>\n",
       "      <th>Close</th>\n",
       "      <th>Volume</th>\n",
       "    </tr>\n",
       "    <tr>\n",
       "      <th>Date</th>\n",
       "      <th></th>\n",
       "      <th></th>\n",
       "      <th></th>\n",
       "      <th></th>\n",
       "      <th></th>\n",
       "    </tr>\n",
       "  </thead>\n",
       "  <tbody>\n",
       "    <tr>\n",
       "      <th>2020-08-10</th>\n",
       "      <td>11270.25</td>\n",
       "      <td>11373.60</td>\n",
       "      <td>11111.45</td>\n",
       "      <td>11178.4</td>\n",
       "      <td>2.895408e+09</td>\n",
       "    </tr>\n",
       "    <tr>\n",
       "      <th>2020-08-17</th>\n",
       "      <td>11248.90</td>\n",
       "      <td>11460.35</td>\n",
       "      <td>11144.50</td>\n",
       "      <td>11371.6</td>\n",
       "      <td>3.299731e+09</td>\n",
       "    </tr>\n",
       "    <tr>\n",
       "      <th>2020-08-24</th>\n",
       "      <td>11412.00</td>\n",
       "      <td>11686.05</td>\n",
       "      <td>11410.65</td>\n",
       "      <td>11647.6</td>\n",
       "      <td>3.441270e+09</td>\n",
       "    </tr>\n",
       "  </tbody>\n",
       "</table>\n",
       "</div>"
      ],
      "text/plain": [
       "                Open      High       Low    Close        Volume\n",
       "Date                                                           \n",
       "2020-08-10  11270.25  11373.60  11111.45  11178.4  2.895408e+09\n",
       "2020-08-17  11248.90  11460.35  11144.50  11371.6  3.299731e+09\n",
       "2020-08-24  11412.00  11686.05  11410.65  11647.6  3.441270e+09"
      ]
     },
     "execution_count": 3,
     "metadata": {},
     "output_type": "execute_result"
    }
   ],
   "source": [
    "weekly_nifty_data = nifty_data.resample('W').agg(niftyutils.OHLC_CONVERSION_DICT)\n",
    "weekly_nifty_data.index = weekly_nifty_data.index - to_offset('6D')\n",
    "weekly_nifty_data.tail(3)"
   ]
  },
  {
   "cell_type": "code",
   "execution_count": 4,
   "metadata": {},
   "outputs": [
    {
     "data": {
      "text/html": [
       "<div>\n",
       "<style scoped>\n",
       "    .dataframe tbody tr th:only-of-type {\n",
       "        vertical-align: middle;\n",
       "    }\n",
       "\n",
       "    .dataframe tbody tr th {\n",
       "        vertical-align: top;\n",
       "    }\n",
       "\n",
       "    .dataframe thead th {\n",
       "        text-align: right;\n",
       "    }\n",
       "</style>\n",
       "<table border=\"1\" class=\"dataframe\">\n",
       "  <thead>\n",
       "    <tr style=\"text-align: right;\">\n",
       "      <th></th>\n",
       "      <th>Open</th>\n",
       "      <th>High</th>\n",
       "      <th>Low</th>\n",
       "      <th>Close</th>\n",
       "      <th>Volume</th>\n",
       "      <th>Pct_Chg</th>\n",
       "    </tr>\n",
       "    <tr>\n",
       "      <th>Date</th>\n",
       "      <th></th>\n",
       "      <th></th>\n",
       "      <th></th>\n",
       "      <th></th>\n",
       "      <th></th>\n",
       "      <th></th>\n",
       "    </tr>\n",
       "  </thead>\n",
       "  <tbody>\n",
       "    <tr>\n",
       "      <th>2020-08-10</th>\n",
       "      <td>11270.25</td>\n",
       "      <td>11373.60</td>\n",
       "      <td>11111.45</td>\n",
       "      <td>11178.4</td>\n",
       "      <td>2.895408e+09</td>\n",
       "      <td>-0.317905</td>\n",
       "    </tr>\n",
       "    <tr>\n",
       "      <th>2020-08-17</th>\n",
       "      <td>11248.90</td>\n",
       "      <td>11460.35</td>\n",
       "      <td>11144.50</td>\n",
       "      <td>11371.6</td>\n",
       "      <td>3.299731e+09</td>\n",
       "      <td>1.728333</td>\n",
       "    </tr>\n",
       "    <tr>\n",
       "      <th>2020-08-24</th>\n",
       "      <td>11412.00</td>\n",
       "      <td>11686.05</td>\n",
       "      <td>11410.65</td>\n",
       "      <td>11647.6</td>\n",
       "      <td>3.441270e+09</td>\n",
       "      <td>2.427099</td>\n",
       "    </tr>\n",
       "  </tbody>\n",
       "</table>\n",
       "</div>"
      ],
      "text/plain": [
       "                Open      High       Low    Close        Volume   Pct_Chg\n",
       "Date                                                                     \n",
       "2020-08-10  11270.25  11373.60  11111.45  11178.4  2.895408e+09 -0.317905\n",
       "2020-08-17  11248.90  11460.35  11144.50  11371.6  3.299731e+09  1.728333\n",
       "2020-08-24  11412.00  11686.05  11410.65  11647.6  3.441270e+09  2.427099"
      ]
     },
     "execution_count": 4,
     "metadata": {},
     "output_type": "execute_result"
    }
   ],
   "source": [
    "weekly_nifty_data['Pct_Chg'] = (weekly_nifty_data['Close']/weekly_nifty_data['Close'].shift(1) - 1)*100\n",
    "weekly_nifty_data = weekly_nifty_data.dropna()\n",
    "weekly_nifty_data.tail(3)"
   ]
  },
  {
   "cell_type": "code",
   "execution_count": 5,
   "metadata": {},
   "outputs": [],
   "source": [
    "def find_weak_bearish_engulfing(ohlc_data):\n",
    "    engulfing_occurence_list = []\n",
    "    \n",
    "    for (indx1,row1),(indx2,row2) in zip(ohlc_data[:-1].iterrows(), ohlc_data[1:].iterrows()):\n",
    "        \n",
    "        first_pct_change = row1['Pct_Chg']\n",
    "        second_pct_change = row2['Pct_Chg']\n",
    "    \n",
    "        first_open = row1['Open']\n",
    "        first_close = row1['Close']\n",
    "        second_open = row2['Open']\n",
    "        second_close = row2['Close']\n",
    "        \n",
    "        if first_pct_change > 0 and second_pct_change < 0 and second_close < second_open:\n",
    "\n",
    "            first_price_range = np.array([first_open,first_close])\n",
    "            if second_open > second_close :\n",
    "                max_boundary = second_open\n",
    "                min_boundary = second_close\n",
    "            else:\n",
    "                max_boundary = second_close\n",
    "                min_boundary = second_open\n",
    "\n",
    "            if np.all((first_price_range > min_boundary) & (first_price_range < max_boundary)):\n",
    "                engulfing_occurence_list.append((indx1,indx2))\n",
    "        \n",
    "    return engulfing_occurence_list"
   ]
  },
  {
   "cell_type": "code",
   "execution_count": 6,
   "metadata": {},
   "outputs": [
    {
     "data": {
      "text/plain": [
       "[(Timestamp('2006-04-03 00:00:00'), Timestamp('2006-04-10 00:00:00')),\n",
       " (Timestamp('2006-07-10 00:00:00'), Timestamp('2006-07-17 00:00:00')),\n",
       " (Timestamp('2006-11-27 00:00:00'), Timestamp('2006-12-04 00:00:00'))]"
      ]
     },
     "execution_count": 6,
     "metadata": {},
     "output_type": "execute_result"
    }
   ],
   "source": [
    "find_weak_bearish_engulfing(weekly_nifty_data)[:3]"
   ]
  },
  {
   "cell_type": "code",
   "execution_count": 7,
   "metadata": {},
   "outputs": [],
   "source": [
    "def find_full_bearish_engulfing(ohlc_data):\n",
    "    engulfing_occurence_list = []\n",
    "    \n",
    "    for (indx1,row1),(indx2,row2) in zip(ohlc_data[:-1].iterrows(), ohlc_data[1:].iterrows()):\n",
    "        \n",
    "        first_pct_change = row1['Pct_Chg']\n",
    "        second_pct_change = row2['Pct_Chg']\n",
    "    \n",
    "        first_high = row1['High']\n",
    "        first_low = row1['Low']\n",
    "        second_open = row2['Open']\n",
    "        second_close = row2['Close']\n",
    "        \n",
    "        if first_pct_change > 0 and second_pct_change < 0 and second_close < second_open:\n",
    "\n",
    "            first_price_range = np.array([first_high,first_low])\n",
    "            max_boundary = second_open\n",
    "            min_boundary = second_close\n",
    "            \n",
    "            if np.all((first_price_range > min_boundary) & (first_price_range < max_boundary)):\n",
    "                engulfing_occurence_list.append((indx1,indx2))\n",
    "        \n",
    "    return engulfing_occurence_list"
   ]
  },
  {
   "cell_type": "code",
   "execution_count": 8,
   "metadata": {},
   "outputs": [
    {
     "data": {
      "text/plain": [
       "[(Timestamp('2010-12-27 00:00:00'), Timestamp('2011-01-03 00:00:00')),\n",
       " (Timestamp('2013-12-23 00:00:00'), Timestamp('2013-12-30 00:00:00')),\n",
       " (Timestamp('2014-06-30 00:00:00'), Timestamp('2014-07-07 00:00:00')),\n",
       " (Timestamp('2015-10-19 00:00:00'), Timestamp('2015-10-26 00:00:00')),\n",
       " (Timestamp('2017-09-11 00:00:00'), Timestamp('2017-09-18 00:00:00')),\n",
       " (Timestamp('2018-05-07 00:00:00'), Timestamp('2018-05-14 00:00:00')),\n",
       " (Timestamp('2020-01-13 00:00:00'), Timestamp('2020-01-20 00:00:00'))]"
      ]
     },
     "execution_count": 8,
     "metadata": {},
     "output_type": "execute_result"
    }
   ],
   "source": [
    "full_bearish_engilfing_list = find_full_bearish_engulfing(weekly_nifty_data)\n",
    "full_bearish_engilfing_list"
   ]
  },
  {
   "cell_type": "code",
   "execution_count": 10,
   "metadata": {},
   "outputs": [],
   "source": [
    "event_dates = []\n",
    "for start_date,end_date in full_bearish_engilfing_list:\n",
    "    event_dates.append(end_date) "
   ]
  },
  {
   "cell_type": "code",
   "execution_count": 11,
   "metadata": {},
   "outputs": [],
   "source": [
    "event_indices = []\n",
    "event_annotate_text = []\n",
    "for event_date in event_dates:\n",
    "    event_indices.append(weekly_nifty_data.index.get_loc(event_date))\n",
    "    event_annotate_text.append(event_date.strftime('%-d %b, %Y'))"
   ]
  },
  {
   "cell_type": "markdown",
   "metadata": {},
   "source": [
    "### Visualize all events on full timeframe of NIFTY\n",
    "This helps in developing understanding how frequent is the pattern and some broad level context - like is this pattern coincides with larger turning points."
   ]
  },
  {
   "cell_type": "code",
   "execution_count": 13,
   "metadata": {},
   "outputs": [
    {
     "data": {
      "image/png": "[encoded data removed]",
      "text/plain": [
       "<Figure size 1152x648 with 1 Axes>"
      ]
     },
     "metadata": {
      "needs_background": "light"
     },
     "output_type": "display_data"
    }
   ],
   "source": [
    "fig = plt.figure(figsize = (16,9))\n",
    "ax = fig.add_subplot()\n",
    "\n",
    "y = weekly_nifty_data['Close']\n",
    "ax.plot(y, color = \"blue\", alpha = .5, label = \"NIFTY 50 Weekly Close Price\")\n",
    "\n",
    "annotate_index_mask = [10,20,30]\n",
    "ax.scatter(x = y[event_indices].index, y = y[event_indices].values+30, \n",
    "           marker = '*', s = 120, color = \"red\", alpha = .7, label = \"Engulfing\")\n",
    "\n",
    "for event_index, annotation_text in zip(event_indices, event_annotate_text):\n",
    "    ax.text(y.index[event_index], y[event_index] + 300, \n",
    "            s = annotation_text, fontsize = 10, horizontalalignment = 'center', verticalalignment = 'bottom', \n",
    "            alpha = 0.6, color = 'gray')\n",
    "    \n",
    "ax.tick_params(axis = 'x', labelsize = 12)\n",
    "ax.tick_params(axis = 'y', labelsize = 12)\n",
    "\n",
    "ax.set_title(\"Weekly Bearish Engulfing in NIFTY 50 (Aug 2005 - Aug 2020)\", fontsize = 12)\n",
    "ax.legend(loc = \"upper left\", fontsize = 10);"
   ]
  },
  {
   "cell_type": "markdown",
   "metadata": {},
   "source": [
    "### Visualize actual engulfing event by occurence index\n",
    "This helps in understanding event context and picking up important charcteristics of event"
   ]
  },
  {
   "cell_type": "code",
   "execution_count": 45,
   "metadata": {},
   "outputs": [
    {
     "data": {
      "image/png": "[encoded data removed]",
      "text/plain": [
       "<Figure size 1022.22x575 with 2 Axes>"
      ]
     },
     "metadata": {},
     "output_type": "display_data"
    }
   ],
   "source": [
    "n_candles_before = 7\n",
    "n_candles_after = 7\n",
    "\n",
    "event_id = 6\n",
    "engulfing_ix = event_indices[event_id]\n",
    "event_data = weekly_nifty_data[engulfing_ix - 8 : engulfing_ix + 8].copy()\n",
    "event_title = 'Engulfing on {} on NIFTY'.format(weekly_nifty_data.index[engulfing_ix].strftime('%-d %b, %Y'))\n",
    "fplt.plot(event_data, type='candle',title=event_title,  \n",
    "          ylabel='Price', style = 'charles', figratio=(16,9))"
   ]
  },
  {
   "cell_type": "markdown",
   "metadata": {},
   "source": [
    "### Key characteristics about context and engulfing pattern\n",
    "\n",
    "Context(Prior Action)\n",
    "1. What is the trend -> Find a fittng line through context.\n",
    "2. How far the price action is from EMA 10 \n",
    "3. Average percent change\n",
    "4. No. of red candles and No. of green candles.\n",
    "5. Average gain in red and green candles\n",
    "6. Range of candles\n",
    "7. How many green candles in last four candles?\n",
    "\n",
    "Engulfing\n",
    "1. How big is the engulfing - ratio of engulfing candle to engulfed\n",
    "2. Has engulfing created 8 week high?\n",
    "3. Tail size to body ratio in engulfing\n",
    "4. percentage down on engulfing day\n",
    "5. percentage high on engulfing day"
   ]
  },
  {
   "cell_type": "code",
   "execution_count": 155,
   "metadata": {},
   "outputs": [
    {
     "data": {
      "text/plain": [
       "[(Timestamp('2010-12-27 00:00:00'), Timestamp('2011-01-03 00:00:00')),\n",
       " (Timestamp('2013-12-23 00:00:00'), Timestamp('2013-12-30 00:00:00')),\n",
       " (Timestamp('2014-06-30 00:00:00'), Timestamp('2014-07-07 00:00:00')),\n",
       " (Timestamp('2015-10-19 00:00:00'), Timestamp('2015-10-26 00:00:00')),\n",
       " (Timestamp('2017-09-11 00:00:00'), Timestamp('2017-09-18 00:00:00')),\n",
       " (Timestamp('2018-05-07 00:00:00'), Timestamp('2018-05-14 00:00:00')),\n",
       " (Timestamp('2020-01-13 00:00:00'), Timestamp('2020-01-20 00:00:00'))]"
      ]
     },
     "execution_count": 155,
     "metadata": {},
     "output_type": "execute_result"
    }
   ],
   "source": [
    "full_bearish_engilfing_list"
   ]
  },
  {
   "cell_type": "code",
   "execution_count": 48,
   "metadata": {},
   "outputs": [],
   "source": [
    "def calculate_percent_gain(N_data):\n",
    "    first_open = N_data.iloc[0]['Open']\n",
    "    last_close = N_data.iloc[-1]['Close']\n",
    "    percent = ((last_close - first_open)/first_open)*100\n",
    "    return percent"
   ]
  },
  {
   "cell_type": "code",
   "execution_count": 49,
   "metadata": {},
   "outputs": [],
   "source": [
    "key_stats_days = [1,2,3,5]\n",
    "after_engulfing_list = []\n",
    "\n",
    "for engulfing_ix in event_indices:\n",
    "    key_days_gain_stats = []\n",
    "    for days in key_stats_days:\n",
    "        after_engulfing_data = weekly_nifty_data[engulfing_ix + 1 : engulfing_ix + 1 + days]\n",
    "        pct_change = calculate_percent_gain(after_engulfing_data)\n",
    "        key_days_gain_stats.append(pct_change)\n",
    "    \n",
    "    after_engulfing_list.append(key_days_gain_stats)"
   ]
  },
  {
   "cell_type": "code",
   "execution_count": 50,
   "metadata": {},
   "outputs": [
    {
     "data": {
      "text/html": [
       "<div>\n",
       "<style scoped>\n",
       "    .dataframe tbody tr th:only-of-type {\n",
       "        vertical-align: middle;\n",
       "    }\n",
       "\n",
       "    .dataframe tbody tr th {\n",
       "        vertical-align: top;\n",
       "    }\n",
       "\n",
       "    .dataframe thead th {\n",
       "        text-align: right;\n",
       "    }\n",
       "</style>\n",
       "<table border=\"1\" class=\"dataframe\">\n",
       "  <thead>\n",
       "    <tr style=\"text-align: right;\">\n",
       "      <th></th>\n",
       "      <th>after_1_weeks</th>\n",
       "      <th>after_2_weeks</th>\n",
       "      <th>after_3_weeks</th>\n",
       "      <th>after_5_weeks</th>\n",
       "    </tr>\n",
       "  </thead>\n",
       "  <tbody>\n",
       "    <tr>\n",
       "      <th>0</th>\n",
       "      <td>-4.181282</td>\n",
       "      <td>-3.470422</td>\n",
       "      <td>-6.594310</td>\n",
       "      <td>-10.019826</td>\n",
       "    </tr>\n",
       "    <tr>\n",
       "      <th>1</th>\n",
       "      <td>-0.794104</td>\n",
       "      <td>0.655859</td>\n",
       "      <td>0.737841</td>\n",
       "      <td>-2.534220</td>\n",
       "    </tr>\n",
       "    <tr>\n",
       "      <th>2</th>\n",
       "      <td>2.609452</td>\n",
       "      <td>4.303789</td>\n",
       "      <td>1.788727</td>\n",
       "      <td>4.320525</td>\n",
       "    </tr>\n",
       "    <tr>\n",
       "      <th>3</th>\n",
       "      <td>-1.244638</td>\n",
       "      <td>-3.629005</td>\n",
       "      <td>-2.458238</td>\n",
       "      <td>-3.385043</td>\n",
       "    </tr>\n",
       "    <tr>\n",
       "      <th>4</th>\n",
       "      <td>-1.721870</td>\n",
       "      <td>0.196785</td>\n",
       "      <td>2.081806</td>\n",
       "      <td>3.644040</td>\n",
       "    </tr>\n",
       "    <tr>\n",
       "      <th>5</th>\n",
       "      <td>-0.108791</td>\n",
       "      <td>0.748820</td>\n",
       "      <td>1.421817</td>\n",
       "      <td>1.932333</td>\n",
       "    </tr>\n",
       "    <tr>\n",
       "      <th>6</th>\n",
       "      <td>-1.926687</td>\n",
       "      <td>-0.809619</td>\n",
       "      <td>-0.685819</td>\n",
       "      <td>-8.160546</td>\n",
       "    </tr>\n",
       "  </tbody>\n",
       "</table>\n",
       "</div>"
      ],
      "text/plain": [
       "   after_1_weeks  after_2_weeks  after_3_weeks  after_5_weeks\n",
       "0      -4.181282      -3.470422      -6.594310     -10.019826\n",
       "1      -0.794104       0.655859       0.737841      -2.534220\n",
       "2       2.609452       4.303789       1.788727       4.320525\n",
       "3      -1.244638      -3.629005      -2.458238      -3.385043\n",
       "4      -1.721870       0.196785       2.081806       3.644040\n",
       "5      -0.108791       0.748820       1.421817       1.932333\n",
       "6      -1.926687      -0.809619      -0.685819      -8.160546"
      ]
     },
     "execution_count": 50,
     "metadata": {},
     "output_type": "execute_result"
    }
   ],
   "source": [
    "after_engulfing_stats = pd.DataFrame(after_engulfing_list, columns=['after_{}_weeks'.format(i) for i in key_stats_days])\n",
    "after_engulfing_stats"
   ]
  },
  {
   "cell_type": "code",
   "execution_count": 51,
   "metadata": {},
   "outputs": [],
   "source": [
    "key_stats_days = [1,2,3,5]\n",
    "before_engulfing_list = []\n",
    "\n",
    "for engulfing_ix in event_indices:\n",
    "    key_days_gain_stats = []\n",
    "    for days in reversed(key_stats_days):\n",
    "        before_engulfing_data = weekly_nifty_data[engulfing_ix - 1 - days: engulfing_ix - 1]\n",
    "        pct_change = calculate_percent_gain(before_engulfing_data)\n",
    "        key_days_gain_stats.append(pct_change)\n",
    "        \n",
    "    before_engulfing_list.append(key_days_gain_stats)"
   ]
  },
  {
   "cell_type": "code",
   "execution_count": 52,
   "metadata": {},
   "outputs": [
    {
     "data": {
      "text/html": [
       "<div>\n",
       "<style scoped>\n",
       "    .dataframe tbody tr th:only-of-type {\n",
       "        vertical-align: middle;\n",
       "    }\n",
       "\n",
       "    .dataframe tbody tr th {\n",
       "        vertical-align: top;\n",
       "    }\n",
       "\n",
       "    .dataframe thead th {\n",
       "        text-align: right;\n",
       "    }\n",
       "</style>\n",
       "<table border=\"1\" class=\"dataframe\">\n",
       "  <thead>\n",
       "    <tr style=\"text-align: right;\">\n",
       "      <th></th>\n",
       "      <th>before_5_weeks</th>\n",
       "      <th>before_3_weeks</th>\n",
       "      <th>before_2_weeks</th>\n",
       "      <th>before_1_weeks</th>\n",
       "    </tr>\n",
       "  </thead>\n",
       "  <tbody>\n",
       "    <tr>\n",
       "      <th>0</th>\n",
       "      <td>1.531862</td>\n",
       "      <td>-0.365450</td>\n",
       "      <td>2.192039</td>\n",
       "      <td>1.429933</td>\n",
       "    </tr>\n",
       "    <tr>\n",
       "      <th>1</th>\n",
       "      <td>2.670572</td>\n",
       "      <td>1.670677</td>\n",
       "      <td>-2.194076</td>\n",
       "      <td>1.716829</td>\n",
       "    </tr>\n",
       "    <tr>\n",
       "      <th>2</th>\n",
       "      <td>1.077570</td>\n",
       "      <td>-1.480651</td>\n",
       "      <td>-0.345066</td>\n",
       "      <td>-0.069204</td>\n",
       "    </tr>\n",
       "    <tr>\n",
       "      <th>3</th>\n",
       "      <td>5.467220</td>\n",
       "      <td>4.375507</td>\n",
       "      <td>2.911269</td>\n",
       "      <td>0.080787</td>\n",
       "    </tr>\n",
       "    <tr>\n",
       "      <th>4</th>\n",
       "      <td>-1.389606</td>\n",
       "      <td>0.715209</td>\n",
       "      <td>0.279091</td>\n",
       "      <td>-0.494283</td>\n",
       "    </tr>\n",
       "    <tr>\n",
       "      <th>5</th>\n",
       "      <td>4.596297</td>\n",
       "      <td>2.115250</td>\n",
       "      <td>0.240258</td>\n",
       "      <td>-0.817318</td>\n",
       "    </tr>\n",
       "    <tr>\n",
       "      <th>6</th>\n",
       "      <td>2.661005</td>\n",
       "      <td>0.174493</td>\n",
       "      <td>-0.147455</td>\n",
       "      <td>0.708264</td>\n",
       "    </tr>\n",
       "  </tbody>\n",
       "</table>\n",
       "</div>"
      ],
      "text/plain": [
       "   before_5_weeks  before_3_weeks  before_2_weeks  before_1_weeks\n",
       "0        1.531862       -0.365450        2.192039        1.429933\n",
       "1        2.670572        1.670677       -2.194076        1.716829\n",
       "2        1.077570       -1.480651       -0.345066       -0.069204\n",
       "3        5.467220        4.375507        2.911269        0.080787\n",
       "4       -1.389606        0.715209        0.279091       -0.494283\n",
       "5        4.596297        2.115250        0.240258       -0.817318\n",
       "6        2.661005        0.174493       -0.147455        0.708264"
      ]
     },
     "execution_count": 52,
     "metadata": {},
     "output_type": "execute_result"
    }
   ],
   "source": [
    "before_engulfing_stats = pd.DataFrame(before_engulfing_list, columns=['before_{}_weeks'.format(i) for i in reversed(key_stats_days)])\n",
    "before_engulfing_stats"
   ]
  },
  {
   "cell_type": "code",
   "execution_count": 53,
   "metadata": {},
   "outputs": [
    {
     "data": {
      "text/plain": [
       "-1.0525600187747044"
      ]
     },
     "execution_count": 53,
     "metadata": {},
     "output_type": "execute_result"
    }
   ],
   "source": [
    "after_engulfing_stats['after_1_weeks'].mean()"
   ]
  },
  {
   "cell_type": "code",
   "execution_count": 54,
   "metadata": {},
   "outputs": [
    {
     "data": {
      "text/plain": [
       "-0.28625597529992136"
      ]
     },
     "execution_count": 54,
     "metadata": {},
     "output_type": "execute_result"
    }
   ],
   "source": [
    "after_engulfing_stats['after_2_weeks'].mean()"
   ]
  },
  {
   "cell_type": "code",
   "execution_count": 55,
   "metadata": {},
   "outputs": [
    {
     "data": {
      "text/plain": [
       "-0.5297393386301547"
      ]
     },
     "execution_count": 55,
     "metadata": {},
     "output_type": "execute_result"
    }
   ],
   "source": [
    "after_engulfing_stats['after_3_weeks'].mean()"
   ]
  },
  {
   "cell_type": "code",
   "execution_count": 56,
   "metadata": {},
   "outputs": [
    {
     "data": {
      "text/plain": [
       "-2.028962537008975"
      ]
     },
     "execution_count": 56,
     "metadata": {},
     "output_type": "execute_result"
    }
   ],
   "source": [
    "after_engulfing_stats['after_5_weeks'].mean()"
   ]
  }
 ],
 "metadata": {
  "kernelspec": {
   "display_name": "Python 3",
   "language": "python",
   "name": "python3"
  },
  "language_info": {
   "codemirror_mode": {
    "name": "ipython",
    "version": 3
   },
   "file_extension": ".py",
   "mimetype": "text/x-python",
   "name": "python",
   "nbconvert_exporter": "python",
   "pygments_lexer": "ipython3",
   "version": "3.6.9"
  }
 },
 "nbformat": 4,
 "nbformat_minor": 4
}
