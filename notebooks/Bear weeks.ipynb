{
 "cells": [
  {
   "cell_type": "markdown",
   "metadata": {},
   "source": [
    "What happens when bears attack for a week?\n",
    "\n",
    "MIN_PCT_LOSS = Minimum Percentage point drop over the week."
   ]
  },
  {
   "cell_type": "code",
   "execution_count": 1,
   "metadata": {},
   "outputs": [],
   "source": [
    "MIN_PCT_LOSS = -3.9"
   ]
  },
  {
   "cell_type": "code",
   "execution_count": 2,
   "metadata": {},
   "outputs": [],
   "source": [
    "import numpy as np\n",
    "import pandas as pd\n",
    "\n",
    "from scipy import stats\n",
    "\n",
    "import datetime\n",
    "from pandas.tseries.frequencies import to_offset\n",
    "\n",
    "import niftyutils\n",
    "from niftyutils import load_nifty_data\n",
    "\n",
    "import matplotlib.pyplot as plt\n",
    "import mplfinance as fplt"
   ]
  },
  {
   "cell_type": "code",
   "execution_count": 3,
   "metadata": {},
   "outputs": [],
   "source": [
    "start_date = datetime.datetime(2005,8,1)\n",
    "end_date = datetime.datetime(2020,8,29)\n",
    "nifty_data = load_nifty_data(start_date,end_date)"
   ]
  },
  {
   "cell_type": "code",
   "execution_count": 4,
   "metadata": {},
   "outputs": [
    {
     "data": {
      "text/html": [
       "<div>\n",
       "<style scoped>\n",
       "    .dataframe tbody tr th:only-of-type {\n",
       "        vertical-align: middle;\n",
       "    }\n",
       "\n",
       "    .dataframe tbody tr th {\n",
       "        vertical-align: top;\n",
       "    }\n",
       "\n",
       "    .dataframe thead th {\n",
       "        text-align: right;\n",
       "    }\n",
       "</style>\n",
       "<table border=\"1\" class=\"dataframe\">\n",
       "  <thead>\n",
       "    <tr style=\"text-align: right;\">\n",
       "      <th></th>\n",
       "      <th>Open</th>\n",
       "      <th>High</th>\n",
       "      <th>Low</th>\n",
       "      <th>Close</th>\n",
       "      <th>Volume</th>\n",
       "    </tr>\n",
       "    <tr>\n",
       "      <th>Date</th>\n",
       "      <th></th>\n",
       "      <th></th>\n",
       "      <th></th>\n",
       "      <th></th>\n",
       "      <th></th>\n",
       "    </tr>\n",
       "  </thead>\n",
       "  <tbody>\n",
       "    <tr>\n",
       "      <th>2020-08-10</th>\n",
       "      <td>11270.25</td>\n",
       "      <td>11373.60</td>\n",
       "      <td>11111.45</td>\n",
       "      <td>11178.4</td>\n",
       "      <td>2.895408e+09</td>\n",
       "    </tr>\n",
       "    <tr>\n",
       "      <th>2020-08-17</th>\n",
       "      <td>11248.90</td>\n",
       "      <td>11460.35</td>\n",
       "      <td>11144.50</td>\n",
       "      <td>11371.6</td>\n",
       "      <td>3.299731e+09</td>\n",
       "    </tr>\n",
       "    <tr>\n",
       "      <th>2020-08-24</th>\n",
       "      <td>11412.00</td>\n",
       "      <td>11686.05</td>\n",
       "      <td>11410.65</td>\n",
       "      <td>11647.6</td>\n",
       "      <td>3.441270e+09</td>\n",
       "    </tr>\n",
       "  </tbody>\n",
       "</table>\n",
       "</div>"
      ],
      "text/plain": [
       "                Open      High       Low    Close        Volume\n",
       "Date                                                           \n",
       "2020-08-10  11270.25  11373.60  11111.45  11178.4  2.895408e+09\n",
       "2020-08-17  11248.90  11460.35  11144.50  11371.6  3.299731e+09\n",
       "2020-08-24  11412.00  11686.05  11410.65  11647.6  3.441270e+09"
      ]
     },
     "execution_count": 4,
     "metadata": {},
     "output_type": "execute_result"
    }
   ],
   "source": [
    "weekly_nifty_data = nifty_data.resample('W').agg(niftyutils.OHLC_CONVERSION_DICT)\n",
    "weekly_nifty_data.index = weekly_nifty_data.index - to_offset('6D')\n",
    "weekly_nifty_data.tail(3)"
   ]
  },
  {
   "cell_type": "code",
   "execution_count": 5,
   "metadata": {},
   "outputs": [],
   "source": [
    "weekly_returns = (weekly_nifty_data['Close']/weekly_nifty_data['Close'].shift(1) - 1)*100\n",
    "weekly_returns = weekly_returns.dropna()"
   ]
  },
  {
   "cell_type": "code",
   "execution_count": 6,
   "metadata": {},
   "outputs": [],
   "source": [
    "bear_weeks = weekly_returns[(weekly_returns <= MIN_PCT_LOSS)]"
   ]
  },
  {
   "cell_type": "code",
   "execution_count": 7,
   "metadata": {},
   "outputs": [
    {
     "data": {
      "text/plain": [
       "Date\n",
       "2009-01-05   -5.702798\n",
       "2008-09-22   -6.124492\n",
       "2007-10-15   -3.922995\n",
       "Name: Close, dtype: float64"
      ]
     },
     "execution_count": 7,
     "metadata": {},
     "output_type": "execute_result"
    }
   ],
   "source": [
    "bear_weeks.sample(3)"
   ]
  },
  {
   "cell_type": "code",
   "execution_count": 8,
   "metadata": {},
   "outputs": [],
   "source": [
    "pct_change_after_bear_week = []\n",
    "for ix, pct_chage in bear_weeks.iteritems():\n",
    "    pct_change_by_week = []\n",
    "    for i in range(1,5):\n",
    "        after_ix = weekly_returns.index.get_loc(ix) + i\n",
    "        ret = weekly_returns[after_ix]\n",
    "        pct_change_by_week.append(ret)\n",
    "    \n",
    "    pct_change_after_bear_week.append(pct_change_by_week)"
   ]
  },
  {
   "cell_type": "code",
   "execution_count": 9,
   "metadata": {},
   "outputs": [],
   "source": [
    "bear_week_study_data = pd.DataFrame(pct_change_after_bear_week, columns=['1st','2nd','3rd','4th'],\n",
    "                                                  index = bear_weeks.index)\n",
    "bear_week_study_data['Bear Week'] = bear_weeks.values\n",
    "bear_week_study_data = bear_week_study_data[['Bear Week','1st','2nd','3rd','4th']]"
   ]
  },
  {
   "cell_type": "code",
   "execution_count": 10,
   "metadata": {},
   "outputs": [
    {
     "data": {
      "text/html": [
       "<div>\n",
       "<style scoped>\n",
       "    .dataframe tbody tr th:only-of-type {\n",
       "        vertical-align: middle;\n",
       "    }\n",
       "\n",
       "    .dataframe tbody tr th {\n",
       "        vertical-align: top;\n",
       "    }\n",
       "\n",
       "    .dataframe thead th {\n",
       "        text-align: right;\n",
       "    }\n",
       "</style>\n",
       "<table border=\"1\" class=\"dataframe\">\n",
       "  <thead>\n",
       "    <tr style=\"text-align: right;\">\n",
       "      <th></th>\n",
       "      <th>Bear Week</th>\n",
       "      <th>1st</th>\n",
       "      <th>2nd</th>\n",
       "      <th>3rd</th>\n",
       "      <th>4th</th>\n",
       "    </tr>\n",
       "  </thead>\n",
       "  <tbody>\n",
       "    <tr>\n",
       "      <th>count</th>\n",
       "      <td>52.000000</td>\n",
       "      <td>52.000000</td>\n",
       "      <td>52.000000</td>\n",
       "      <td>52.000000</td>\n",
       "      <td>52.000000</td>\n",
       "    </tr>\n",
       "    <tr>\n",
       "      <th>mean</th>\n",
       "      <td>-6.176278</td>\n",
       "      <td>0.407333</td>\n",
       "      <td>-0.942204</td>\n",
       "      <td>0.404334</td>\n",
       "      <td>0.607201</td>\n",
       "    </tr>\n",
       "    <tr>\n",
       "      <th>std</th>\n",
       "      <td>2.516537</td>\n",
       "      <td>5.612513</td>\n",
       "      <td>5.118550</td>\n",
       "      <td>5.675585</td>\n",
       "      <td>5.250710</td>\n",
       "    </tr>\n",
       "    <tr>\n",
       "      <th>min</th>\n",
       "      <td>-15.949713</td>\n",
       "      <td>-15.949713</td>\n",
       "      <td>-15.949713</td>\n",
       "      <td>-15.949713</td>\n",
       "      <td>-15.949713</td>\n",
       "    </tr>\n",
       "    <tr>\n",
       "      <th>25%</th>\n",
       "      <td>-6.688504</td>\n",
       "      <td>-2.211710</td>\n",
       "      <td>-3.715660</td>\n",
       "      <td>-2.727129</td>\n",
       "      <td>-3.023497</td>\n",
       "    </tr>\n",
       "    <tr>\n",
       "      <th>50%</th>\n",
       "      <td>-5.343472</td>\n",
       "      <td>0.916525</td>\n",
       "      <td>-1.172267</td>\n",
       "      <td>1.069195</td>\n",
       "      <td>0.664616</td>\n",
       "    </tr>\n",
       "    <tr>\n",
       "      <th>75%</th>\n",
       "      <td>-4.623283</td>\n",
       "      <td>3.347419</td>\n",
       "      <td>3.071829</td>\n",
       "      <td>3.210089</td>\n",
       "      <td>3.591637</td>\n",
       "    </tr>\n",
       "    <tr>\n",
       "      <th>max</th>\n",
       "      <td>-3.922995</td>\n",
       "      <td>12.718029</td>\n",
       "      <td>11.671827</td>\n",
       "      <td>12.718029</td>\n",
       "      <td>12.718029</td>\n",
       "    </tr>\n",
       "  </tbody>\n",
       "</table>\n",
       "</div>"
      ],
      "text/plain": [
       "       Bear Week        1st        2nd        3rd        4th\n",
       "count  52.000000  52.000000  52.000000  52.000000  52.000000\n",
       "mean   -6.176278   0.407333  -0.942204   0.404334   0.607201\n",
       "std     2.516537   5.612513   5.118550   5.675585   5.250710\n",
       "min   -15.949713 -15.949713 -15.949713 -15.949713 -15.949713\n",
       "25%    -6.688504  -2.211710  -3.715660  -2.727129  -3.023497\n",
       "50%    -5.343472   0.916525  -1.172267   1.069195   0.664616\n",
       "75%    -4.623283   3.347419   3.071829   3.210089   3.591637\n",
       "max    -3.922995  12.718029  11.671827  12.718029  12.718029"
      ]
     },
     "execution_count": 10,
     "metadata": {},
     "output_type": "execute_result"
    }
   ],
   "source": [
    "bear_week_study_data.describe()"
   ]
  },
  {
   "cell_type": "code",
   "execution_count": 11,
   "metadata": {},
   "outputs": [
    {
     "data": {
      "text/plain": [
       "<AxesSubplot:>"
      ]
     },
     "execution_count": 11,
     "metadata": {},
     "output_type": "execute_result"
    },
    {
     "data": {
      "image/png": "[encoded data removed]",
      "text/plain": [
       "<Figure size 432x288 with 1 Axes>"
      ]
     },
     "metadata": {
      "needs_background": "light"
     },
     "output_type": "display_data"
    }
   ],
   "source": [
    "bear_week_study_data.boxplot(grid=True, rot=45, fontsize=15)"
   ]
  },
  {
   "cell_type": "code",
   "execution_count": 13,
   "metadata": {},
   "outputs": [
    {
     "data": {
      "text/html": [
       "<div>\n",
       "<style scoped>\n",
       "    .dataframe tbody tr th:only-of-type {\n",
       "        vertical-align: middle;\n",
       "    }\n",
       "\n",
       "    .dataframe tbody tr th {\n",
       "        vertical-align: top;\n",
       "    }\n",
       "\n",
       "    .dataframe thead th {\n",
       "        text-align: right;\n",
       "    }\n",
       "</style>\n",
       "<table border=\"1\" class=\"dataframe\">\n",
       "  <thead>\n",
       "    <tr style=\"text-align: right;\">\n",
       "      <th></th>\n",
       "      <th>Bear Week</th>\n",
       "      <th>1st</th>\n",
       "      <th>2nd</th>\n",
       "      <th>3rd</th>\n",
       "      <th>4th</th>\n",
       "    </tr>\n",
       "  </thead>\n",
       "  <tbody>\n",
       "    <tr>\n",
       "      <th>count</th>\n",
       "      <td>35.000000</td>\n",
       "      <td>35.000000</td>\n",
       "      <td>35.000000</td>\n",
       "      <td>35.000000</td>\n",
       "      <td>35.000000</td>\n",
       "    </tr>\n",
       "    <tr>\n",
       "      <th>mean</th>\n",
       "      <td>-4.899170</td>\n",
       "      <td>0.736216</td>\n",
       "      <td>-0.150181</td>\n",
       "      <td>0.273278</td>\n",
       "      <td>1.012367</td>\n",
       "    </tr>\n",
       "    <tr>\n",
       "      <th>std</th>\n",
       "      <td>0.600593</td>\n",
       "      <td>4.397055</td>\n",
       "      <td>3.838364</td>\n",
       "      <td>4.982793</td>\n",
       "      <td>4.593932</td>\n",
       "    </tr>\n",
       "    <tr>\n",
       "      <th>min</th>\n",
       "      <td>-5.969243</td>\n",
       "      <td>-14.099206</td>\n",
       "      <td>-6.268388</td>\n",
       "      <td>-15.949713</td>\n",
       "      <td>-7.980516</td>\n",
       "    </tr>\n",
       "    <tr>\n",
       "      <th>25%</th>\n",
       "      <td>-5.343472</td>\n",
       "      <td>-2.085464</td>\n",
       "      <td>-3.434382</td>\n",
       "      <td>-2.251882</td>\n",
       "      <td>-1.897780</td>\n",
       "    </tr>\n",
       "    <tr>\n",
       "      <th>50%</th>\n",
       "      <td>-4.938891</td>\n",
       "      <td>1.503572</td>\n",
       "      <td>-1.102685</td>\n",
       "      <td>1.068165</td>\n",
       "      <td>1.047214</td>\n",
       "    </tr>\n",
       "    <tr>\n",
       "      <th>75%</th>\n",
       "      <td>-4.377513</td>\n",
       "      <td>3.164474</td>\n",
       "      <td>3.214824</td>\n",
       "      <td>2.936903</td>\n",
       "      <td>3.986204</td>\n",
       "    </tr>\n",
       "    <tr>\n",
       "      <th>max</th>\n",
       "      <td>-3.922995</td>\n",
       "      <td>9.337910</td>\n",
       "      <td>7.220730</td>\n",
       "      <td>10.744376</td>\n",
       "      <td>11.671827</td>\n",
       "    </tr>\n",
       "  </tbody>\n",
       "</table>\n",
       "</div>"
      ],
      "text/plain": [
       "       Bear Week        1st        2nd        3rd        4th\n",
       "count  35.000000  35.000000  35.000000  35.000000  35.000000\n",
       "mean   -4.899170   0.736216  -0.150181   0.273278   1.012367\n",
       "std     0.600593   4.397055   3.838364   4.982793   4.593932\n",
       "min    -5.969243 -14.099206  -6.268388 -15.949713  -7.980516\n",
       "25%    -5.343472  -2.085464  -3.434382  -2.251882  -1.897780\n",
       "50%    -4.938891   1.503572  -1.102685   1.068165   1.047214\n",
       "75%    -4.377513   3.164474   3.214824   2.936903   3.986204\n",
       "max    -3.922995   9.337910   7.220730  10.744376  11.671827"
      ]
     },
     "execution_count": 13,
     "metadata": {},
     "output_type": "execute_result"
    }
   ],
   "source": [
    "bear_week_study_data[bear_week_study_data['Bear Week'].between(-6.0,-3.9)].describe()"
   ]
  }
 ],
 "metadata": {
  "kernelspec": {
   "display_name": "Python 3",
   "language": "python",
   "name": "python3"
  },
  "language_info": {
   "codemirror_mode": {
    "name": "ipython",
    "version": 3
   },
   "file_extension": ".py",
   "mimetype": "text/x-python",
   "name": "python",
   "nbconvert_exporter": "python",
   "pygments_lexer": "ipython3",
   "version": "3.6.9"
  }
 },
 "nbformat": 4,
 "nbformat_minor": 4
}
