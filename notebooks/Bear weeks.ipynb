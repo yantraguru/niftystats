{
 "cells": [
  {
   "cell_type": "markdown",
   "metadata": {},
   "source": [
    "What happens when bears attack for a week?\n",
    "\n",
    "MIN_PCT_LOSS = Minimum Percentage point drop over the week."
   ]
  },
  {
   "cell_type": "code",
   "execution_count": 15,
   "metadata": {},
   "outputs": [],
   "source": [
    "MIN_PCT_LOSS = -4"
   ]
  },
  {
   "cell_type": "code",
   "execution_count": 16,
   "metadata": {},
   "outputs": [],
   "source": [
    "import numpy as np\n",
    "import pandas as pd\n",
    "\n",
    "from scipy import stats\n",
    "\n",
    "import datetime\n",
    "from pandas.tseries.frequencies import to_offset\n",
    "\n",
    "import niftyutils\n",
    "from niftyutils import load_nifty_data\n",
    "\n",
    "import matplotlib.pyplot as plt\n",
    "import mplfinance as fplt"
   ]
  },
  {
   "cell_type": "code",
   "execution_count": 17,
   "metadata": {},
   "outputs": [],
   "source": [
    "start_date = datetime.datetime(2005,8,1)\n",
    "end_date = datetime.datetime(2020,8,29)\n",
    "nifty_data = load_nifty_data(start_date,end_date)"
   ]
  },
  {
   "cell_type": "code",
   "execution_count": 18,
   "metadata": {},
   "outputs": [
    {
     "data": {
      "text/html": [
       "<div>\n",
       "<style scoped>\n",
       "    .dataframe tbody tr th:only-of-type {\n",
       "        vertical-align: middle;\n",
       "    }\n",
       "\n",
       "    .dataframe tbody tr th {\n",
       "        vertical-align: top;\n",
       "    }\n",
       "\n",
       "    .dataframe thead th {\n",
       "        text-align: right;\n",
       "    }\n",
       "</style>\n",
       "<table border=\"1\" class=\"dataframe\">\n",
       "  <thead>\n",
       "    <tr style=\"text-align: right;\">\n",
       "      <th></th>\n",
       "      <th>Open</th>\n",
       "      <th>High</th>\n",
       "      <th>Low</th>\n",
       "      <th>Close</th>\n",
       "      <th>Volume</th>\n",
       "    </tr>\n",
       "    <tr>\n",
       "      <th>Date</th>\n",
       "      <th></th>\n",
       "      <th></th>\n",
       "      <th></th>\n",
       "      <th></th>\n",
       "      <th></th>\n",
       "    </tr>\n",
       "  </thead>\n",
       "  <tbody>\n",
       "    <tr>\n",
       "      <th>2020-08-10</th>\n",
       "      <td>11270.25</td>\n",
       "      <td>11373.60</td>\n",
       "      <td>11111.45</td>\n",
       "      <td>11178.4</td>\n",
       "      <td>2.895408e+09</td>\n",
       "    </tr>\n",
       "    <tr>\n",
       "      <th>2020-08-17</th>\n",
       "      <td>11248.90</td>\n",
       "      <td>11460.35</td>\n",
       "      <td>11144.50</td>\n",
       "      <td>11371.6</td>\n",
       "      <td>3.299731e+09</td>\n",
       "    </tr>\n",
       "    <tr>\n",
       "      <th>2020-08-24</th>\n",
       "      <td>11412.00</td>\n",
       "      <td>11686.05</td>\n",
       "      <td>11410.65</td>\n",
       "      <td>11647.6</td>\n",
       "      <td>3.441270e+09</td>\n",
       "    </tr>\n",
       "  </tbody>\n",
       "</table>\n",
       "</div>"
      ],
      "text/plain": [
       "                Open      High       Low    Close        Volume\n",
       "Date                                                           \n",
       "2020-08-10  11270.25  11373.60  11111.45  11178.4  2.895408e+09\n",
       "2020-08-17  11248.90  11460.35  11144.50  11371.6  3.299731e+09\n",
       "2020-08-24  11412.00  11686.05  11410.65  11647.6  3.441270e+09"
      ]
     },
     "execution_count": 18,
     "metadata": {},
     "output_type": "execute_result"
    }
   ],
   "source": [
    "weekly_nifty_data = nifty_data.resample('W').agg(niftyutils.OHLC_CONVERSION_DICT)\n",
    "weekly_nifty_data.index = weekly_nifty_data.index - to_offset('6D')\n",
    "weekly_nifty_data.tail(3)"
   ]
  },
  {
   "cell_type": "code",
   "execution_count": 19,
   "metadata": {},
   "outputs": [],
   "source": [
    "weekly_returns = (weekly_nifty_data['Close']/weekly_nifty_data['Close'].shift(1) - 1)*100\n",
    "weekly_returns = weekly_returns.dropna()"
   ]
  },
  {
   "cell_type": "code",
   "execution_count": 20,
   "metadata": {},
   "outputs": [],
   "source": [
    "bear_weeks = weekly_returns[(weekly_returns <= MIN_PCT_LOSS)]"
   ]
  },
  {
   "cell_type": "code",
   "execution_count": 26,
   "metadata": {},
   "outputs": [
    {
     "data": {
      "text/plain": [
       "Date\n",
       "2006-07-17   -5.710215\n",
       "2008-09-22   -6.124492\n",
       "2009-01-05   -5.702798\n",
       "Name: Close, dtype: float64"
      ]
     },
     "execution_count": 26,
     "metadata": {},
     "output_type": "execute_result"
    }
   ],
   "source": [
    "bear_weeks.sample(3)"
   ]
  },
  {
   "cell_type": "code",
   "execution_count": 34,
   "metadata": {},
   "outputs": [],
   "source": [
    "pct_change_after_bear_week = []\n",
    "for ix, pct_chage in bear_weeks.iteritems():\n",
    "    pct_change_by_week = []\n",
    "    for i in range(1,5):\n",
    "        after_ix = weekly_returns.index.get_loc(ix) + i\n",
    "        ret = weekly_returns[after_ix]\n",
    "        pct_change_by_week.append(ret)\n",
    "    \n",
    "    pct_change_after_bear_week.append(pct_change_by_week)"
   ]
  },
  {
   "cell_type": "code",
   "execution_count": 36,
   "metadata": {},
   "outputs": [],
   "source": [
    "bear_week_study_data = pd.DataFrame(pct_change_after_bear_week, columns=['1st','2nd','3rd','4th'],\n",
    "                                                  index = bear_weeks.index)\n",
    "bear_week_study_data['Bear Week'] = bear_weeks.values\n",
    "bear_week_study_data = bear_week_study_data[['Bear Week','1st','2nd','3rd','4th']]"
   ]
  },
  {
   "cell_type": "code",
   "execution_count": 38,
   "metadata": {},
   "outputs": [
    {
     "data": {
      "text/html": [
       "<div>\n",
       "<style scoped>\n",
       "    .dataframe tbody tr th:only-of-type {\n",
       "        vertical-align: middle;\n",
       "    }\n",
       "\n",
       "    .dataframe tbody tr th {\n",
       "        vertical-align: top;\n",
       "    }\n",
       "\n",
       "    .dataframe thead th {\n",
       "        text-align: right;\n",
       "    }\n",
       "</style>\n",
       "<table border=\"1\" class=\"dataframe\">\n",
       "  <thead>\n",
       "    <tr style=\"text-align: right;\">\n",
       "      <th></th>\n",
       "      <th>Bear Week</th>\n",
       "      <th>1st</th>\n",
       "      <th>2nd</th>\n",
       "      <th>3rd</th>\n",
       "      <th>4th</th>\n",
       "    </tr>\n",
       "  </thead>\n",
       "  <tbody>\n",
       "    <tr>\n",
       "      <th>count</th>\n",
       "      <td>50.000000</td>\n",
       "      <td>50.000000</td>\n",
       "      <td>50.000000</td>\n",
       "      <td>50.000000</td>\n",
       "      <td>50.000000</td>\n",
       "    </tr>\n",
       "    <tr>\n",
       "      <th>mean</th>\n",
       "      <td>-6.265066</td>\n",
       "      <td>0.092453</td>\n",
       "      <td>-0.987945</td>\n",
       "      <td>0.599643</td>\n",
       "      <td>0.518631</td>\n",
       "    </tr>\n",
       "    <tr>\n",
       "      <th>std</th>\n",
       "      <td>2.526312</td>\n",
       "      <td>5.487240</td>\n",
       "      <td>5.158824</td>\n",
       "      <td>5.702183</td>\n",
       "      <td>5.328953</td>\n",
       "    </tr>\n",
       "    <tr>\n",
       "      <th>min</th>\n",
       "      <td>-15.949713</td>\n",
       "      <td>-15.949713</td>\n",
       "      <td>-15.949713</td>\n",
       "      <td>-15.949713</td>\n",
       "      <td>-15.949713</td>\n",
       "    </tr>\n",
       "    <tr>\n",
       "      <th>25%</th>\n",
       "      <td>-6.752964</td>\n",
       "      <td>-2.331947</td>\n",
       "      <td>-3.740896</td>\n",
       "      <td>-2.321974</td>\n",
       "      <td>-3.237268</td>\n",
       "    </tr>\n",
       "    <tr>\n",
       "      <th>50%</th>\n",
       "      <td>-5.429064</td>\n",
       "      <td>0.790471</td>\n",
       "      <td>-1.172267</td>\n",
       "      <td>1.149410</td>\n",
       "      <td>0.432061</td>\n",
       "    </tr>\n",
       "    <tr>\n",
       "      <th>75%</th>\n",
       "      <td>-4.735953</td>\n",
       "      <td>2.798154</td>\n",
       "      <td>2.889780</td>\n",
       "      <td>3.446820</td>\n",
       "      <td>3.497398</td>\n",
       "    </tr>\n",
       "    <tr>\n",
       "      <th>max</th>\n",
       "      <td>-4.093879</td>\n",
       "      <td>12.718029</td>\n",
       "      <td>11.671827</td>\n",
       "      <td>12.718029</td>\n",
       "      <td>12.718029</td>\n",
       "    </tr>\n",
       "  </tbody>\n",
       "</table>\n",
       "</div>"
      ],
      "text/plain": [
       "       Bear Week        1st        2nd        3rd        4th\n",
       "count  50.000000  50.000000  50.000000  50.000000  50.000000\n",
       "mean   -6.265066   0.092453  -0.987945   0.599643   0.518631\n",
       "std     2.526312   5.487240   5.158824   5.702183   5.328953\n",
       "min   -15.949713 -15.949713 -15.949713 -15.949713 -15.949713\n",
       "25%    -6.752964  -2.331947  -3.740896  -2.321974  -3.237268\n",
       "50%    -5.429064   0.790471  -1.172267   1.149410   0.432061\n",
       "75%    -4.735953   2.798154   2.889780   3.446820   3.497398\n",
       "max    -4.093879  12.718029  11.671827  12.718029  12.718029"
      ]
     },
     "execution_count": 38,
     "metadata": {},
     "output_type": "execute_result"
    }
   ],
   "source": [
    "bear_week_study_data.describe()"
   ]
  },
  {
   "cell_type": "code",
   "execution_count": 39,
   "metadata": {},
   "outputs": [
    {
     "data": {
      "text/plain": [
       "<AxesSubplot:>"
      ]
     },
     "execution_count": 39,
     "metadata": {},
     "output_type": "execute_result"
    },
    {
     "data": {
      "image/png": "[encoded data removed]",
      "text/plain": [
       "<Figure size 432x288 with 1 Axes>"
      ]
     },
     "metadata": {
      "needs_background": "light"
     },
     "output_type": "display_data"
    }
   ],
   "source": [
    "bear_week_study_data.boxplot(grid=True, rot=45, fontsize=15)"
   ]
  },
  {
   "cell_type": "code",
   "execution_count": 44,
   "metadata": {},
   "outputs": [
    {
     "data": {
      "text/html": [
       "<div>\n",
       "<style scoped>\n",
       "    .dataframe tbody tr th:only-of-type {\n",
       "        vertical-align: middle;\n",
       "    }\n",
       "\n",
       "    .dataframe tbody tr th {\n",
       "        vertical-align: top;\n",
       "    }\n",
       "\n",
       "    .dataframe thead th {\n",
       "        text-align: right;\n",
       "    }\n",
       "</style>\n",
       "<table border=\"1\" class=\"dataframe\">\n",
       "  <thead>\n",
       "    <tr style=\"text-align: right;\">\n",
       "      <th></th>\n",
       "      <th>Bear Week</th>\n",
       "      <th>1st</th>\n",
       "      <th>2nd</th>\n",
       "      <th>3rd</th>\n",
       "      <th>4th</th>\n",
       "    </tr>\n",
       "  </thead>\n",
       "  <tbody>\n",
       "    <tr>\n",
       "      <th>count</th>\n",
       "      <td>38.000000</td>\n",
       "      <td>38.000000</td>\n",
       "      <td>38.000000</td>\n",
       "      <td>38.000000</td>\n",
       "      <td>38.000000</td>\n",
       "    </tr>\n",
       "    <tr>\n",
       "      <th>mean</th>\n",
       "      <td>-5.146384</td>\n",
       "      <td>0.101069</td>\n",
       "      <td>-0.262244</td>\n",
       "      <td>0.698319</td>\n",
       "      <td>0.586122</td>\n",
       "    </tr>\n",
       "    <tr>\n",
       "      <th>std</th>\n",
       "      <td>0.731519</td>\n",
       "      <td>5.153505</td>\n",
       "      <td>4.693209</td>\n",
       "      <td>4.975320</td>\n",
       "      <td>5.448231</td>\n",
       "    </tr>\n",
       "    <tr>\n",
       "      <th>min</th>\n",
       "      <td>-6.785194</td>\n",
       "      <td>-15.949713</td>\n",
       "      <td>-14.099206</td>\n",
       "      <td>-15.949713</td>\n",
       "      <td>-15.949713</td>\n",
       "    </tr>\n",
       "    <tr>\n",
       "      <th>25%</th>\n",
       "      <td>-5.687848</td>\n",
       "      <td>-2.331947</td>\n",
       "      <td>-3.223997</td>\n",
       "      <td>-1.900883</td>\n",
       "      <td>-2.735213</td>\n",
       "    </tr>\n",
       "    <tr>\n",
       "      <th>50%</th>\n",
       "      <td>-5.069181</td>\n",
       "      <td>1.388235</td>\n",
       "      <td>-1.085444</td>\n",
       "      <td>1.149410</td>\n",
       "      <td>0.432061</td>\n",
       "    </tr>\n",
       "    <tr>\n",
       "      <th>75%</th>\n",
       "      <td>-4.538719</td>\n",
       "      <td>2.798154</td>\n",
       "      <td>3.018768</td>\n",
       "      <td>3.086873</td>\n",
       "      <td>4.828515</td>\n",
       "    </tr>\n",
       "    <tr>\n",
       "      <th>max</th>\n",
       "      <td>-4.093879</td>\n",
       "      <td>12.718029</td>\n",
       "      <td>11.671827</td>\n",
       "      <td>10.744376</td>\n",
       "      <td>11.671827</td>\n",
       "    </tr>\n",
       "  </tbody>\n",
       "</table>\n",
       "</div>"
      ],
      "text/plain": [
       "       Bear Week        1st        2nd        3rd        4th\n",
       "count  38.000000  38.000000  38.000000  38.000000  38.000000\n",
       "mean   -5.146384   0.101069  -0.262244   0.698319   0.586122\n",
       "std     0.731519   5.153505   4.693209   4.975320   5.448231\n",
       "min    -6.785194 -15.949713 -14.099206 -15.949713 -15.949713\n",
       "25%    -5.687848  -2.331947  -3.223997  -1.900883  -2.735213\n",
       "50%    -5.069181   1.388235  -1.085444   1.149410   0.432061\n",
       "75%    -4.538719   2.798154   3.018768   3.086873   4.828515\n",
       "max    -4.093879  12.718029  11.671827  10.744376  11.671827"
      ]
     },
     "execution_count": 44,
     "metadata": {},
     "output_type": "execute_result"
    }
   ],
   "source": [
    "bear_week_study_data[bear_week_study_data['Bear Week'].between(-7.0,-4.0)].describe()"
   ]
  }
 ],
 "metadata": {
  "kernelspec": {
   "display_name": "Python 3",
   "language": "python",
   "name": "python3"
  },
  "language_info": {
   "codemirror_mode": {
    "name": "ipython",
    "version": 3
   },
   "file_extension": ".py",
   "mimetype": "text/x-python",
   "name": "python",
   "nbconvert_exporter": "python",
   "pygments_lexer": "ipython3",
   "version": "3.6.9"
  }
 },
 "nbformat": 4,
 "nbformat_minor": 4
}
